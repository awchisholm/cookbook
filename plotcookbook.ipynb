{
  "nbformat": 4,
  "nbformat_minor": 0,
  "metadata": {
    "colab": {
      "name": "plotcookbook",
      "provenance": [],
      "collapsed_sections": []
    },
    "kernelspec": {
      "name": "python3",
      "display_name": "Python 3"
    },
    "language_info": {
      "name": "python"
    }
  },
  "cells": [
    {
      "cell_type": "code",
      "execution_count": 13,
      "metadata": {
        "id": "RhZar_C4XyB5"
      },
      "outputs": [],
      "source": [
        "import folium\n",
        "import pandas as pd"
      ]
    },
    {
      "cell_type": "code",
      "source": [
        "my_map = folium.Map(\n",
        "    location=[51, -1],\n",
        "    zoom_start=7\n",
        ")\n",
        "folium.Marker(\n",
        "    location=[51, -1],\n",
        "    popup=\"home\",\n",
        "    icon=folium.Icon(icon=\"glyphicon-tint\"),\n",
        ").add_to(my_map)\n",
        "folium.Marker(\n",
        "    location=[52, -2],\n",
        "    popup=\"home\",\n",
        "    icon=folium.Icon(icon=\"glyphicon-book\", color='white', icon_color='blue'),\n",
        ").add_to(my_map)\n",
        "\n",
        "my_map"
      ],
      "metadata": {
        "id": "SlggMt5LX37X"
      },
      "execution_count": null,
      "outputs": []
    }
  ]
}