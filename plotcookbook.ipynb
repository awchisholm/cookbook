{
  "nbformat": 4,
  "nbformat_minor": 0,
  "metadata": {
    "colab": {
      "name": "plotcookbook",
      "provenance": [],
      "collapsed_sections": [],
      "authorship_tag": "ABX9TyONEsXTiqdjNMrNUIB0cKG3",
      "include_colab_link": true
    },
    "kernelspec": {
      "name": "python3",
      "display_name": "Python 3"
    },
    "language_info": {
      "name": "python"
    }
  },
  "cells": [
    {
      "cell_type": "markdown",
      "metadata": {
        "id": "view-in-github",
        "colab_type": "text"
      },
      "source": [
        "<a href=\"https://colab.research.google.com/github/awchisholm/cookbook/blob/main/plotcookbook.ipynb\" target=\"_parent\"><img src=\"https://colab.research.google.com/assets/colab-badge.svg\" alt=\"Open In Colab\"/></a>"
      ]
    },
    {
      "cell_type": "code",
      "execution_count": 1,
      "metadata": {
        "id": "jDtAgSLQ0d3x"
      },
      "outputs": [],
      "source": [
        "import folium\n",
        "import pandas as pd"
      ]
    },
    {
      "cell_type": "code",
      "source": [
        "my_map = folium.Map(\n",
        "    location=[51, -1],\n",
        "    zoom_start=2\n",
        ")\n",
        "locations = pd.read_csv('https://raw.githubusercontent.com/awchisholm/cookbook/main/locations.csv', skipinitialspace=True)\n",
        "#locations = pd.read_csv('t.csv')\n",
        "\n",
        "for index, location_info in locations.iterrows():\n",
        "    folium.Marker(location=[location_info[\"Latitude\"], location_info[\"Longitude\"]], popup=location_info[\"Point\"], icon=folium.Icon(icon=location_info['Icon'], color=location_info['Color'], icon_color=location_info['Icon_color'])).add_to(my_map)\n",
        "\n",
        "my_map"
      ],
      "metadata": {
        "id": "coqkf8Kf0nIv"
      },
      "execution_count": null,
      "outputs": []
    }
  ]
}